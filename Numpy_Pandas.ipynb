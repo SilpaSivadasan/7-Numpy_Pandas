{
 "cells": [
  {
   "cell_type": "markdown",
   "id": "5646a582-7a0b-490c-b8fc-4d883ea34255",
   "metadata": {},
   "source": [
    "Create a numpy array containing the numbers from 1 to 10, and then reshape it to a 2x5 matrix.\n"
   ]
  },
  {
   "cell_type": "code",
   "execution_count": 3,
   "id": "c76fbeae-4ab1-471f-976b-95f8438af51e",
   "metadata": {},
   "outputs": [],
   "source": [
    "import numpy as np\n"
   ]
  },
  {
   "cell_type": "code",
   "execution_count": 5,
   "id": "663f1674-d8ae-428d-ad66-e325c5033684",
   "metadata": {},
   "outputs": [],
   "source": [
    "array_1d = np.arange(1, 11)\n"
   ]
  },
  {
   "cell_type": "code",
   "execution_count": 7,
   "id": "5c675fdb-b62f-457d-b1b9-866340016cfc",
   "metadata": {},
   "outputs": [
    {
     "name": "stdout",
     "output_type": "stream",
     "text": [
      "[ 1  2  3  4  5  6  7  8  9 10]\n"
     ]
    }
   ],
   "source": [
    "print(array_1d)"
   ]
  },
  {
   "cell_type": "code",
   "execution_count": 9,
   "id": "118aa560-44d6-4e4c-9b28-ad420e671591",
   "metadata": {},
   "outputs": [
    {
     "name": "stdout",
     "output_type": "stream",
     "text": [
      "[[ 1  2  3  4  5]\n",
      " [ 6  7  8  9 10]]\n"
     ]
    }
   ],
   "source": [
    "array_2x5 = array_1d.reshape(2, 5)\n",
    "print(array_2x5)"
   ]
  },
  {
   "cell_type": "markdown",
   "id": "ecdba80c-4f02-4495-a610-1fd67b5507e3",
   "metadata": {},
   "source": [
    "Exercise 2: Extracting Elements (Index 5 to 15)\n"
   ]
  },
  {
   "cell_type": "code",
   "execution_count": 16,
   "id": "b0019d9c-80fa-40ef-a945-cd96cd290d26",
   "metadata": {},
   "outputs": [
    {
     "name": "stdout",
     "output_type": "stream",
     "text": [
      "[ 6  7  8  9 10 11 12 13 14 15]\n"
     ]
    }
   ],
   "source": [
    "import numpy as np\n",
    "\n",
    "values = np.arange(1, 21)\n",
    "\n",
    "extracted_elements = values[5:15]\n",
    "\n",
    "print(extracted_elements)\n",
    "\n"
   ]
  },
  {
   "cell_type": "code",
   "execution_count": 18,
   "id": "92b6d8db-f322-4623-9b29-fab02263ae6c",
   "metadata": {},
   "outputs": [
    {
     "name": "stdout",
     "output_type": "stream",
     "text": [
      "apples     3\n",
      "bananas    2\n",
      "oranges    1\n",
      "pears      4\n",
      "dtype: int64\n"
     ]
    }
   ],
   "source": [
    "import pandas as pd \n",
    "\n",
    "fruit_series = pd.Series({'apples': 3, 'bananas': 2, 'oranges': 1})\n",
    "\n",
    "fruit_series['pears'] = 4  \n",
    "\n",
    "print(fruit_series)\n"
   ]
  },
  {
   "cell_type": "markdown",
   "id": "e20f10f2-6f5f-402e-b989-b688fc473047",
   "metadata": {},
   "source": [
    "Create a dataframe with the following columns: name, age, and gender. The dataframe should have 10 rows of data.\n"
   ]
  },
  {
   "cell_type": "code",
   "execution_count": 21,
   "id": "b5b580e1-6cc9-4899-b46f-bccd1cea1704",
   "metadata": {},
   "outputs": [
    {
     "name": "stdout",
     "output_type": "stream",
     "text": [
      "      name  age gender\n",
      "0    Alice   25      F\n",
      "1      Bob   30      M\n",
      "2  Charlie   22      M\n",
      "3    David   35      M\n",
      "4      Eve   40      F\n",
      "5    Frank   28      M\n",
      "6    Grace   32      F\n",
      "7   Hannah   27      F\n",
      "8      Ian   45      M\n",
      "9     Jack   50      M\n"
     ]
    }
   ],
   "source": [
    "import pandas as pd  # Import pandas library\n",
    "\n",
    "data = {\n",
    "    'name': ['Alice', 'Bob', 'Charlie', 'David', 'Eve', 'Frank', 'Grace', 'Hannah', 'Ian', 'Jack'],\n",
    "    'age': [25, 30, 22, 35, 40, 28, 32, 27, 45, 50],\n",
    "    'gender': ['F', 'M', 'M', 'M', 'F', 'M', 'F', 'F', 'M', 'M']\n",
    "}\n",
    "\n",
    "df = pd.DataFrame(data)\n",
    "\n",
    "print(df)\n"
   ]
  },
  {
   "cell_type": "markdown",
   "id": "e054c845-854e-44c3-a397-eeb7a88b9104",
   "metadata": {},
   "source": [
    "Exercise 5: (Score : 1)\n",
    "Add a new column to the data frame created in question 1, called occupation. The values for this column should be Programmer, Manager, and Analyst, corresponding to the rows in the dataframe.\n"
   ]
  },
  {
   "cell_type": "code",
   "execution_count": 24,
   "id": "9b74732e-51f0-456d-8500-0305d4bf11d0",
   "metadata": {},
   "outputs": [
    {
     "name": "stdout",
     "output_type": "stream",
     "text": [
      "      name  age gender  occupation\n",
      "0    Alice   25      F  Programmer\n",
      "1      Bob   30      M     Manager\n",
      "2  Charlie   22      M     Analyst\n",
      "3    David   35      M  Programmer\n",
      "4      Eve   40      F     Manager\n",
      "5    Frank   28      M     Analyst\n",
      "6    Grace   32      F  Programmer\n",
      "7   Hannah   27      F     Manager\n",
      "8      Ian   45      M     Analyst\n",
      "9     Jack   50      M  Programmer\n"
     ]
    }
   ],
   "source": [
    "import pandas as pd  # Import pandas library\n",
    "\n",
    "data = {\n",
    "    'name': ['Alice', 'Bob', 'Charlie', 'David', 'Eve', 'Frank', 'Grace', 'Hannah', 'Ian', 'Jack'],\n",
    "    'age': [25, 30, 22, 35, 40, 28, 32, 27, 45, 50],\n",
    "    'gender': ['F', 'M', 'M', 'M', 'F', 'M', 'F', 'F', 'M', 'M']\n",
    "}\n",
    "\n",
    "df = pd.DataFrame(data)\n",
    "\n",
    "occupations = ['Programmer', 'Manager', 'Analyst'] * (len(df) // 3) + ['Programmer'] \n",
    "df['occupation'] = occupations\n",
    "\n",
    "print(df)\n"
   ]
  },
  {
   "cell_type": "markdown",
   "id": "8deac47a-c601-4be0-99d0-36aa00cecad8",
   "metadata": {},
   "source": [
    "Exercise 6: (Score : 1)\n",
    "Select the rows of the dataframe where the age is greater than or equal to 30.\n"
   ]
  },
  {
   "cell_type": "code",
   "execution_count": 29,
   "id": "f21dbadf-4d15-40b6-ac3a-95c5bd272509",
   "metadata": {},
   "outputs": [
    {
     "name": "stdout",
     "output_type": "stream",
     "text": [
      "    name  age gender  occupation\n",
      "1    Bob   30      M     Manager\n",
      "3  David   35      M  Programmer\n",
      "4    Eve   40      F     Manager\n",
      "6  Grace   32      F  Programmer\n",
      "8    Ian   45      M     Analyst\n",
      "9   Jack   50      M  Programmer\n"
     ]
    }
   ],
   "source": [
    "import pandas as pd  \n",
    "\n",
    "data = {\n",
    "    'name': ['Alice', 'Bob', 'Charlie', 'David', 'Eve', 'Frank', 'Grace', 'Hannah', 'Ian', 'Jack'],\n",
    "    'age': [25, 30, 22, 35, 40, 28, 32, 27, 45, 50],\n",
    "    'gender': ['F', 'M', 'M', 'M', 'F', 'M', 'F', 'F', 'M', 'M'],\n",
    "    'occupation': ['Programmer', 'Manager', 'Analyst', 'Programmer', 'Manager', \n",
    "                   'Analyst', 'Programmer', 'Manager', 'Analyst', 'Programmer']\n",
    "}\n",
    "\n",
    "df = pd.DataFrame(data)\n",
    "\n",
    "df_filtered = df[df['age'] >= 30]\n",
    "\n",
    "print(df_filtered)\n"
   ]
  },
  {
   "cell_type": "markdown",
   "id": "d120f601-78b5-4ca4-82f2-8f6b5f8a1301",
   "metadata": {},
   "source": [
    "Exercise 7: (Score : 2)\n",
    "Convert this dataframe to a csv file and read that csv file, finally display the contents.\n"
   ]
  },
  {
   "cell_type": "code",
   "execution_count": 32,
   "id": "bc32096b-86ce-4c13-a1b7-b9e5e9b349c1",
   "metadata": {},
   "outputs": [
    {
     "name": "stdout",
     "output_type": "stream",
     "text": [
      "Data read from CSV file:\n",
      "      name  age gender  occupation\n",
      "0    Alice   25      F  Programmer\n",
      "1      Bob   30      M     Manager\n",
      "2  Charlie   22      M     Analyst\n",
      "3    David   35      M  Programmer\n",
      "4      Eve   40      F     Manager\n",
      "5    Frank   28      M     Analyst\n",
      "6    Grace   32      F  Programmer\n",
      "7   Hannah   27      F     Manager\n",
      "8      Ian   45      M     Analyst\n",
      "9     Jack   50      M  Programmer\n"
     ]
    }
   ],
   "source": [
    "import pandas as pd  # Import pandas library\n",
    "\n",
    "data = {\n",
    "    'name': ['Alice', 'Bob', 'Charlie', 'David', 'Eve', 'Frank', 'Grace', 'Hannah', 'Ian', 'Jack'],\n",
    "    'age': [25, 30, 22, 35, 40, 28, 32, 27, 45, 50],\n",
    "    'gender': ['F', 'M', 'M', 'M', 'F', 'M', 'F', 'F', 'M', 'M'],\n",
    "    'occupation': ['Programmer', 'Manager', 'Analyst', 'Programmer', 'Manager', \n",
    "                   'Analyst', 'Programmer', 'Manager', 'Analyst', 'Programmer']\n",
    "}\n",
    "\n",
    "df = pd.DataFrame(data)\n",
    "\n",
    "csv_filename = \"data.csv\"\n",
    "df.to_csv(csv_filename, index=False)  \n",
    "\n",
    "df_read = pd.read_csv(csv_filename)\n",
    "\n",
    "print(\"Data read from CSV file:\")\n",
    "print(df_read)\n"
   ]
  },
  {
   "cell_type": "code",
   "execution_count": null,
   "id": "527f7c3b-6da7-47b1-a0b8-2d92ea61ab16",
   "metadata": {},
   "outputs": [],
   "source": []
  }
 ],
 "metadata": {
  "kernelspec": {
   "display_name": "Python [conda env:base] *",
   "language": "python",
   "name": "conda-base-py"
  },
  "language_info": {
   "codemirror_mode": {
    "name": "ipython",
    "version": 3
   },
   "file_extension": ".py",
   "mimetype": "text/x-python",
   "name": "python",
   "nbconvert_exporter": "python",
   "pygments_lexer": "ipython3",
   "version": "3.12.7"
  }
 },
 "nbformat": 4,
 "nbformat_minor": 5
}
